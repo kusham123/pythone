{
 "cells": [
  {
   "cell_type": "code",
   "execution_count": 1,
   "metadata": {},
   "outputs": [
    {
     "ename": "MemoryError",
     "evalue": "",
     "output_type": "error",
     "traceback": [
      "\u001b[1;31m---------------------------------------------------------------------------\u001b[0m",
      "\u001b[1;31mMemoryError\u001b[0m                               Traceback (most recent call last)",
      "Cell \u001b[1;32mIn[1], line 18\u001b[0m\n\u001b[0;32m     15\u001b[0m         j\u001b[38;5;241m+\u001b[39m\u001b[38;5;241m=\u001b[39m\u001b[38;5;241m1\u001b[39m\n\u001b[0;32m     16\u001b[0m     \u001b[38;5;28;01mreturn\u001b[39;00m res\n\u001b[1;32m---> 18\u001b[0m \u001b[43mmarge_short\u001b[49m\u001b[43m(\u001b[49m\u001b[43m[\u001b[49m\u001b[38;5;241;43m2\u001b[39;49m\u001b[43m,\u001b[49m\u001b[38;5;241;43m3\u001b[39;49m\u001b[43m,\u001b[49m\u001b[38;5;241;43m6\u001b[39;49m\u001b[43m,\u001b[49m\u001b[38;5;241;43m7\u001b[39;49m\u001b[43m]\u001b[49m\u001b[43m,\u001b[49m\u001b[43m[\u001b[49m\u001b[38;5;241;43m4\u001b[39;49m\u001b[43m,\u001b[49m\u001b[38;5;241;43m6\u001b[39;49m\u001b[43m,\u001b[49m\u001b[38;5;241;43m78\u001b[39;49m\u001b[43m]\u001b[49m\u001b[43m)\u001b[49m\n",
      "Cell \u001b[1;32mIn[1], line 7\u001b[0m, in \u001b[0;36mmarge_short\u001b[1;34m(arr1, arr2)\u001b[0m\n\u001b[0;32m      5\u001b[0m \u001b[38;5;28;01mwhile\u001b[39;00m i \u001b[38;5;241m<\u001b[39m \u001b[38;5;28mlen\u001b[39m(arr1) \u001b[38;5;129;01mand\u001b[39;00m j \u001b[38;5;241m<\u001b[39m \u001b[38;5;28mlen\u001b[39m(arr2):\n\u001b[0;32m      6\u001b[0m     \u001b[38;5;28;01mif\u001b[39;00m arr1[i] \u001b[38;5;241m<\u001b[39m arr2[j]:\n\u001b[1;32m----> 7\u001b[0m         \u001b[43mres\u001b[49m\u001b[38;5;241;43m.\u001b[39;49m\u001b[43mappend\u001b[49m\u001b[43m(\u001b[49m\u001b[43marr1\u001b[49m\u001b[43m[\u001b[49m\u001b[43mi\u001b[49m\u001b[43m]\u001b[49m\u001b[43m)\u001b[49m\n\u001b[0;32m      8\u001b[0m     \u001b[38;5;28;01melse\u001b[39;00m:\n\u001b[0;32m      9\u001b[0m         res\u001b[38;5;241m.\u001b[39mappend(arr2[j])\n",
      "\u001b[1;31mMemoryError\u001b[0m: "
     ]
    }
   ],
   "source": [
    "def marge_short(arr1, arr2):\n",
    "    i =0\n",
    "    j= 0\n",
    "    res=[]\n",
    "    while i < len(arr1) and j < len(arr2):\n",
    "        if arr1[i] < arr2[j]:\n",
    "            res.append(arr1[i])\n",
    "        else:\n",
    "            res.append(arr2[j])\n",
    "    while i < len(arr1):\n",
    "        res.append(arr1[i])\n",
    "        i+=1\n",
    "    while j < len(arr2):\n",
    "        res.append(arr2[j])\n",
    "        j+=1\n",
    "    return res\n",
    "\n",
    "marge_short([2,3,6,7],[4,6,78])"
   ]
  },
  {
   "cell_type": "code",
   "execution_count": 13,
   "metadata": {},
   "outputs": [
    {
     "data": {
      "text/plain": [
       "[0, 0, 1, 2, 2]"
      ]
     },
     "execution_count": 13,
     "metadata": {},
     "output_type": "execute_result"
    }
   ],
   "source": [
    "# leetcode 75\n",
    "def sortColors(nums):\n",
    "        l = 0\n",
    "        m = 0\n",
    "        r = len(nums) - 1\n",
    "        # print(nums[m])\n",
    "        # print(nums[r])\n",
    "        \n",
    "        while m <= r:\n",
    "            if nums[m] == 2:\n",
    "                # print(nums[m])\n",
    "                # print('first')\n",
    "                nums[m], nums[r] = nums[r], nums[m]\n",
    "                r -= 1\n",
    "            elif nums[m] == 0:\n",
    "                # print('second')\n",
    "                # print(nums[m])\n",
    "                nums[m], nums[l] = nums[l], nums[m]\n",
    "                m += 1\n",
    "                l += 1\n",
    "            else:\n",
    "                # print('third')\n",
    "                m += 1\n",
    "        return nums\n",
    "sortColors([2,0,2,1,0])"
   ]
  },
  {
   "cell_type": "code",
   "execution_count": 22,
   "metadata": {},
   "outputs": [
    {
     "data": {
      "text/plain": [
       "'dkflhkj'"
      ]
     },
     "execution_count": 22,
     "metadata": {},
     "output_type": "execute_result"
    }
   ],
   "source": [
    "def nzigzag(numRows, s):\n",
    "    if numRows == 1:\n",
    "        return s\n",
    "    \n",
    "    res = ''\n",
    "    inc = 2 * (numRows - 1)\n",
    "    for r in range(numRows):\n",
    "        for i in range(r, len(s), inc):\n",
    "            res += s[i]\n",
    "            if(r>0 and r<numRows-1 and i + inc -2*r < len(s)):\n",
    "                res += s[i + inc -2*r]\n",
    "\n",
    "    return res  \n",
    "  \n",
    "nzigzag(4,'dfhjklk')"
   ]
  },
  {
   "cell_type": "code",
   "execution_count": null,
   "metadata": {},
   "outputs": [],
   "source": [
    "# 11,121,80,2000,169,2037\n",
    "\n"
   ]
  },
  {
   "cell_type": "code",
   "execution_count": null,
   "metadata": {},
   "outputs": [],
   "source": [
    "28,6,125,122,121,26,27"
   ]
  },
  {
   "cell_type": "code",
   "execution_count": null,
   "metadata": {},
   "outputs": [],
   "source": []
  },
  {
   "cell_type": "code",
   "execution_count": 49,
   "metadata": {},
   "outputs": [
    {
     "name": "stdout",
     "output_type": "stream",
     "text": [
      "0\n",
      "{2: 0}\n",
      "{2: 0}\n",
      "[0, 1]\n"
     ]
    },
    {
     "data": {
      "text/plain": [
       "[0, 1]"
      ]
     },
     "execution_count": 49,
     "metadata": {},
     "output_type": "execute_result"
    }
   ],
   "source": [
    "# leetcode 1\n",
    "def twosum(nums,target):\n",
    "    d ={}\n",
    "    for i in range(len(nums)):\n",
    "        # print(target)\n",
    "        # print(nums[i])\n",
    "        diff = target - nums[i]\n",
    "        # print(diff)\n",
    "        if diff in d:\n",
    "            print(d)\n",
    "            print([d[diff],i])\n",
    "            return [d[diff],i]\n",
    "        \n",
    "        else:\n",
    "            # print(i)\n",
    "            d[nums[i]] =i \n",
    "            print(d[nums[i]])\n",
    "            print(d)\n",
    "\n",
    "arr = [2,7,6,3,11,15]  \n",
    "# arr = [2,11,5,7,8]\n",
    "twosum(arr, 9)"
   ]
  }
 ],
 "metadata": {
  "kernelspec": {
   "display_name": "Python 3",
   "language": "python",
   "name": "python3"
  },
  "language_info": {
   "codemirror_mode": {
    "name": "ipython",
    "version": 3
   },
   "file_extension": ".py",
   "mimetype": "text/x-python",
   "name": "python",
   "nbconvert_exporter": "python",
   "pygments_lexer": "ipython3",
   "version": "3.12.3"
  }
 },
 "nbformat": 4,
 "nbformat_minor": 2
}
