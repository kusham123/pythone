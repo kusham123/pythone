{
 "cells": [
  {
   "cell_type": "code",
   "execution_count": 5,
   "metadata": {},
   "outputs": [
    {
     "data": {
      "text/plain": [
       "2"
      ]
     },
     "execution_count": 5,
     "metadata": {},
     "output_type": "execute_result"
    }
   ],
   "source": [
    "def numberOfEmployeesWhoMetTarget(hours, target):\n",
    "        \"\"\"\n",
    "        :type hours: List[int]\n",
    "        :type target: int\n",
    "        :rtype: int\n",
    "        \"\"\"\n",
    "        left = 0\n",
    "        right = len(hours)-1\n",
    "        # print(left)\n",
    "        # print(right)\n",
    "        \n",
    "        while(left <= right):\n",
    "            mid = left + (right - left) // 2\n",
    "            # print(mid)\n",
    "            \n",
    "            if hours[mid] == target:\n",
    "                return mid\n",
    "                \n",
    "            elif hours[mid] <= target :\n",
    "                return mid + 1\n",
    "            else:\n",
    "                return mid -1\n",
    "        \n",
    "hours = [0,1,2,3,4]\n",
    "target = 2\n",
    "        \n",
    "numberOfEmployeesWhoMetTarget(hours,target)"
   ]
  },
  {
   "cell_type": "code",
   "execution_count": 2,
   "metadata": {},
   "outputs": [
    {
     "name": "stdout",
     "output_type": "stream",
     "text": [
      "0\n",
      "1\n",
      "2\n"
     ]
    }
   ],
   "source": [
    "# \n",
    "def twoSum(nums, target):\n",
    "        n = len(nums)\n",
    "        for i in range(n - 1):\n",
    "            print(i)\n",
    "            # for j in range(i + 1, n):\n",
    "                # if nums[i] + nums[j] == terget:\n",
    "    \n",
    "twoSum(nums=[2,7,11,20],target=9)\n"
   ]
  },
  {
   "cell_type": "code",
   "execution_count": 11,
   "metadata": {},
   "outputs": [
    {
     "name": "stdout",
     "output_type": "stream",
     "text": [
      "2\n",
      "3\n",
      "4\n"
     ]
    },
    {
     "data": {
      "text/plain": [
       "3"
      ]
     },
     "execution_count": 11,
     "metadata": {},
     "output_type": "execute_result"
    }
   ],
   "source": [
    "def numberOfEmployeesWhoMetTarget( hours, target):\n",
    "    count =0\n",
    "    for i in hours :\n",
    "        if i >= target:\n",
    "           print(i)\n",
    "           count += 1\n",
    "    return count\n",
    "    \n",
    "\n",
    "hours = [0,1,2,3,4]\n",
    "target = 2\n",
    "        \n",
    "numberOfEmployeesWhoMetTarget(hours,target)"
   ]
  }
 ],
 "metadata": {
  "kernelspec": {
   "display_name": "Python 3",
   "language": "python",
   "name": "python3"
  },
  "language_info": {
   "codemirror_mode": {
    "name": "ipython",
    "version": 3
   },
   "file_extension": ".py",
   "mimetype": "text/x-python",
   "name": "python",
   "nbconvert_exporter": "python",
   "pygments_lexer": "ipython3",
   "version": "3.12.3"
  }
 },
 "nbformat": 4,
 "nbformat_minor": 2
}
