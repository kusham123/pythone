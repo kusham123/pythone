{
 "cells": [
  {
   "cell_type": "code",
   "execution_count": 14,
   "metadata": {},
   "outputs": [
    {
     "data": {
      "text/plain": [
       "4"
      ]
     },
     "execution_count": 14,
     "metadata": {},
     "output_type": "execute_result"
    }
   ],
   "source": [
    "# leetcode 169\n",
    "def majorityElement(nums):\n",
    "    count = 0\n",
    "    candidate =0\n",
    "    for num in nums:\n",
    "        \n",
    "        if count == 0:\n",
    "           candidate = num\n",
    "          \n",
    "        if num == candidate:\n",
    "            count += 1\n",
    "        else:\n",
    "            count -= 1\n",
    "    return candidate\n",
    "# arr = [2,3,2,4,2,2,4,4]\n",
    "arr = [2,3,2,3,3,3,4,4,4]\n",
    "majorityElement(arr)                "
   ]
  },
  {
   "cell_type": "code",
   "execution_count": null,
   "metadata": {},
   "outputs": [],
   "source": [
    "def str(haystack,needle):\n",
    "    len_haystack = len(haystack)\n",
    "    len_needle = len(needle)\n",
    "    for i in range(len_haystack - len_needle + 1):\n",
    "        if haystack[i:i+len_needle] == needle:\n",
    "            l=[]\n",
    "        \n",
    "        return i\n",
    "    return -1\n",
    "\n",
    "str('sadbutsad','sad')"
   ]
  }
 ],
 "metadata": {
  "kernelspec": {
   "display_name": "Python 3",
   "language": "python",
   "name": "python3"
  },
  "language_info": {
   "codemirror_mode": {
    "name": "ipython",
    "version": 3
   },
   "file_extension": ".py",
   "mimetype": "text/x-python",
   "name": "python",
   "nbconvert_exporter": "python",
   "pygments_lexer": "ipython3",
   "version": "3.12.3"
  }
 },
 "nbformat": 4,
 "nbformat_minor": 2
}
