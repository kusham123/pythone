{
 "cells": [
  {
   "cell_type": "code",
   "execution_count": 8,
   "metadata": {},
   "outputs": [
    {
     "data": {
      "text/plain": [
       "True"
      ]
     },
     "execution_count": 8,
     "metadata": {},
     "output_type": "execute_result"
    }
   ],
   "source": [
    "# 242 a string contain same alphabate\n",
    "def isAnagrma(str:str,target:str):\n",
    "    res = 0\n",
    "    for i in str:\n",
    "        res += ((ord(i)**2) + (ord(i) **3))\n",
    "    for j in target:\n",
    "        res -= ((ord(j)**2) + (ord(j) **3))\n",
    "    return not res\n",
    "\n",
    "isAnagrma('anagram','nagaram')"
   ]
  },
  {
   "cell_type": "code",
   "execution_count": 1,
   "metadata": {},
   "outputs": [
    {
     "name": "stdout",
     "output_type": "stream",
     "text": [
      "{'a': 3, 'n': 1, 'g': 1, 'r': 1, 'm': 1}\n"
     ]
    },
    {
     "data": {
      "text/plain": [
       "True"
      ]
     },
     "execution_count": 1,
     "metadata": {},
     "output_type": "execute_result"
    }
   ],
   "source": [
    "def isAnagrma2(str:str,target:str):\n",
    "    d1={}\n",
    "    d2={}\n",
    "    for i in str:\n",
    "        if i in d1:\n",
    "            d1[i] +=1\n",
    "        else:\n",
    "            d1[i] =1\n",
    "    for j in target:\n",
    "        if j in d2:\n",
    "            d2[j] +=1\n",
    "        else:\n",
    "            d2[j] =1\n",
    "    print(d1)\n",
    "    return d1==d2\n",
    "    \n",
    "isAnagrma2('anagram','nagaram')"
   ]
  }
 ],
 "metadata": {
  "kernelspec": {
   "display_name": "Python 3",
   "language": "python",
   "name": "python3"
  },
  "language_info": {
   "codemirror_mode": {
    "name": "ipython",
    "version": 3
   },
   "file_extension": ".py",
   "mimetype": "text/x-python",
   "name": "python",
   "nbconvert_exporter": "python",
   "pygments_lexer": "ipython3",
   "version": "3.12.3"
  }
 },
 "nbformat": 4,
 "nbformat_minor": 2
}
