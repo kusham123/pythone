{
 "cells": [
  {
   "cell_type": "code",
   "execution_count": 1,
   "metadata": {},
   "outputs": [
    {
     "name": "stdout",
     "output_type": "stream",
     "text": [
      "index is  0 value is  23\n",
      "index is  1 value is  45\n",
      "index is  2 value is  56\n",
      "index is  3 value is  67\n",
      "index is  4 value is  67\n"
     ]
    }
   ],
   "source": [
    "a = [23,45,56,67,67]\n",
    "for a,b in enumerate(a):\n",
    "    print(\"index is \",a,\"value is \" , b)"
   ]
  },
  {
   "cell_type": "code",
   "execution_count": null,
   "metadata": {},
   "outputs": [],
   "source": [
    "# 1)  print for loop first 10 natural no.\n",
    "for i in range(1,11):\n",
    "    print(i)\n"
   ]
  },
  {
   "cell_type": "code",
   "execution_count": null,
   "metadata": {},
   "outputs": [],
   "source": [
    "# print all even no. 501, 1567\n",
    "for i in range(1, 21):\n",
    "    if i % 2 == 0:\n",
    "        print(i)"
   ]
  },
  {
   "cell_type": "code",
   "execution_count": null,
   "metadata": {},
   "outputs": [],
   "source": [
    "# given range some  sum odd no. 200 to 800 \n",
    "start = 200\n",
    "end = 800\n",
    "\n",
    "sum_of_odds = 0\n",
    "\n",
    "for i in range(start, end + 1):\n",
    "    if i % 2 == 0:\n",
    "        print(i)\n",
    "    else:\n",
    "        # print(i)\n",
    "        sum_of_odds += i\n",
    "        \n",
    "print(sum_of_odds)"
   ]
  },
  {
   "cell_type": "code",
   "execution_count": 1,
   "metadata": {},
   "outputs": [
    {
     "name": "stdout",
     "output_type": "stream",
     "text": [
      "250500\n",
      "250000\n"
     ]
    }
   ],
   "source": [
    "# range 1 to 1000 calculate sum of even no and odd nmber\n",
    "start = 1\n",
    "end = 1000\n",
    "sum_of_evens =0\n",
    "sum_of_odds = 0\n",
    "\n",
    "for i in range(start, end + 1):\n",
    "    if i % 2 == 0:\n",
    "        # print(i)\n",
    "        sum_of_evens += i\n",
    "    else:\n",
    "        # print(i)\n",
    "        sum_of_odds += i\n",
    "        \n",
    "print(sum_of_evens)\n",
    "print(sum_of_odds)"
   ]
  }
 ],
 "metadata": {
  "kernelspec": {
   "display_name": "venv",
   "language": "python",
   "name": "python3"
  },
  "language_info": {
   "codemirror_mode": {
    "name": "ipython",
    "version": 3
   },
   "file_extension": ".py",
   "mimetype": "text/x-python",
   "name": "python",
   "nbconvert_exporter": "python",
   "pygments_lexer": "ipython3",
   "version": "3.12.3"
  }
 },
 "nbformat": 4,
 "nbformat_minor": 2
}
