{
 "cells": [
  {
   "cell_type": "code",
   "execution_count": 11,
   "metadata": {},
   "outputs": [
    {
     "name": "stdout",
     "output_type": "stream",
     "text": [
      "1 4\n",
      "2 3\n"
     ]
    }
   ],
   "source": [
    "arr = [1,2,3,4]\n",
    "i= 0\n",
    "j = len(arr)-1\n",
    "\n",
    "\n",
    "while i < j:\n",
    "    print(arr[i],arr[j])\n",
    "    i += 1\n",
    "    j -= 1"
   ]
  },
  {
   "cell_type": "code",
   "execution_count": 17,
   "metadata": {},
   "outputs": [
    {
     "name": "stdout",
     "output_type": "stream",
     "text": [
      "[1, 12, -5, -6, 50, 3]\n",
      "[1, 12, -5, -6, 50, 3]\n",
      "[1, 12, -5, -6, 50, 3]\n",
      "[1, 12, -5, -6, 50, 3]\n",
      "[1, 12, -5, -6, 50, 3]\n",
      "[1, 12, -5, -6, 50, 3]\n"
     ]
    }
   ],
   "source": [
    "def avgArr(arr,a):\n",
    "    b = ''\n",
    "    for i in range(len(arr)):\n",
    "        print(arr)\n",
    "        b + arr[i]\n",
    "        print(b)\n",
    "        \n",
    "\n",
    "avgArr([1,12,-5,-6,50,3],4)  "
   ]
  }
 ],
 "metadata": {
  "kernelspec": {
   "display_name": "Python 3",
   "language": "python",
   "name": "python3"
  },
  "language_info": {
   "codemirror_mode": {
    "name": "ipython",
    "version": 3
   },
   "file_extension": ".py",
   "mimetype": "text/x-python",
   "name": "python",
   "nbconvert_exporter": "python",
   "pygments_lexer": "ipython3",
   "version": "3.12.3"
  }
 },
 "nbformat": 4,
 "nbformat_minor": 2
}
