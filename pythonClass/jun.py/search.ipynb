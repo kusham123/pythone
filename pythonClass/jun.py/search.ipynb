{
 "cells": [
  {
   "cell_type": "code",
   "execution_count": null,
   "metadata": {},
   "outputs": [],
   "source": [
    "#33"
   ]
  },
  {
   "cell_type": "code",
   "execution_count": 32,
   "metadata": {},
   "outputs": [
    {
     "name": "stdout",
     "output_type": "stream",
     "text": [
      "process =  0\n"
     ]
    },
    {
     "data": {
      "text/plain": [
       "3"
      ]
     },
     "execution_count": 32,
     "metadata": {},
     "output_type": "execute_result"
    }
   ],
   "source": [
    "# 153 Find Minimum in Rotated Sorted\n",
    "def miniShort(nums):\n",
    "    l =0\n",
    "    res = nums[0]\n",
    "    r = len(nums)-1\n",
    "    # r =4\n",
    "   \n",
    "    while l <= r :\n",
    "        print('process = ',l)\n",
    "        if nums[l] <= nums[r]:\n",
    "            res = min(res,nums[l])\n",
    "            # print('res = ',res)\n",
    "            break\n",
    "        print('pre res = ',res)\n",
    "        m = (l+r)//2\n",
    "        print('m = ',m)\n",
    "        print('nums[m] = ',nums[m])\n",
    "        res = min(res,nums[m])\n",
    "        print('nums = ',nums)\n",
    "        print('res = ',res)\n",
    "        if nums[m] >= nums[l]:\n",
    "            l = m + 1\n",
    "            print('l =',l)\n",
    "        else:\n",
    "            r = m- 1\n",
    "            print('r =',r)\n",
    "    return res\n",
    "        \n",
    "        \n",
    "# arr = [3,4,5,6,2] \n",
    "arr = [3,4,5,7,2,0,9] \n",
    "# arr = [2,4,5,6,8] \n",
    "miniShort(arr) "
   ]
  },
  {
   "cell_type": "code",
   "execution_count": null,
   "metadata": {},
   "outputs": [],
   "source": [
    "# 242"
   ]
  }
 ],
 "metadata": {
  "kernelspec": {
   "display_name": "Python 3",
   "language": "python",
   "name": "python3"
  },
  "language_info": {
   "codemirror_mode": {
    "name": "ipython",
    "version": 3
   },
   "file_extension": ".py",
   "mimetype": "text/x-python",
   "name": "python",
   "nbconvert_exporter": "python",
   "pygments_lexer": "ipython3",
   "version": "3.12.3"
  }
 },
 "nbformat": 4,
 "nbformat_minor": 2
}
