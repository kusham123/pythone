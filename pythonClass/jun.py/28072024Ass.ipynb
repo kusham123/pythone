{
 "cells": [
  {
   "cell_type": "code",
   "execution_count": null,
   "metadata": {},
   "outputs": [],
   "source": [
    "28,6,125,122,121,26,27"
   ]
  },
  {
   "cell_type": "code",
   "execution_count": 16,
   "metadata": {},
   "outputs": [
    {
     "data": {
      "text/plain": [
       "0"
      ]
     },
     "execution_count": 16,
     "metadata": {},
     "output_type": "execute_result"
    }
   ],
   "source": [
    "# lettecode-28 ques\n",
    "\n",
    "def str(haystack,needle):\n",
    "    len_haystack = len(haystack)\n",
    "    len_needle = len(needle)\n",
    "    for i in range(len_haystack - len_needle + 1):\n",
    "        if haystack[i:i+len_needle] == needle:\n",
    "            l=[]\n",
    "        \n",
    "        return i\n",
    "    return -1\n",
    "\n",
    "str('sadbutsad','sad')"
   ]
  },
  {
   "cell_type": "code",
   "execution_count": 20,
   "metadata": {},
   "outputs": [
    {
     "data": {
      "text/plain": [
       "'PAHNAPLSIIGYIR'"
      ]
     },
     "execution_count": 20,
     "metadata": {},
     "output_type": "execute_result"
    }
   ],
   "source": [
    "# leetcode 6-ques\n",
    "def zigzag(str,numRows):\n",
    "    if numRows == 1:\n",
    "        return str\n",
    "    \n",
    "    val =''\n",
    "    inc = 2 * (numRows -1)\n",
    "    for i in range (numRows):\n",
    "        for j in range(i, len(str),inc):\n",
    "            val += str[j]\n",
    "            if (i>0 and i<numRows-1 and j + inc - 2*i<len(str)):\n",
    "                 val += str[j + inc -2*i]\n",
    "                 \n",
    "    return val\n",
    "\n",
    "zigzag('PAYPALISHIRING',3)                 "
   ]
  },
  {
   "cell_type": "code",
   "execution_count": null,
   "metadata": {},
   "outputs": [],
   "source": []
  },
  {
   "cell_type": "code",
   "execution_count": 26,
   "metadata": {},
   "outputs": [
    {
     "data": {
      "text/plain": [
       "True"
      ]
     },
     "execution_count": 26,
     "metadata": {},
     "output_type": "execute_result"
    }
   ],
   "source": [
    "# leetcode 125-ques\n",
    "def isPalindrome(arr):\n",
    "    i=0\n",
    "    j= len(arr) - 1\n",
    "    while i <= j :\n",
    "        if i == j:\n",
    "            return True\n",
    "        i += 1\n",
    "        j -= 1\n",
    "        \n",
    "    return False\n",
    "    \n",
    "isPalindrome([1,2,3,2,1])"
   ]
  },
  {
   "cell_type": "code",
   "execution_count": 28,
   "metadata": {},
   "outputs": [
    {
     "data": {
      "text/plain": [
       "5"
      ]
     },
     "execution_count": 28,
     "metadata": {},
     "output_type": "execute_result"
    }
   ],
   "source": [
    "# leetcode 121-ques\n",
    "def maxProfit(prices):\n",
    "        buy_price = prices[0]\n",
    "        profit = 0\n",
    "\n",
    "        for i in range(1, len(prices)):\n",
    "            p = prices[i]\n",
    "            if buy_price > p:\n",
    "                buy_price = p\n",
    "            \n",
    "            if (p - buy_price) > profit:\n",
    "                profit = p - buy_price\n",
    "        return profit   \n",
    "maxProfit([7,1,5,3,6,4])"
   ]
  },
  {
   "cell_type": "code",
   "execution_count": 30,
   "metadata": {},
   "outputs": [
    {
     "data": {
      "text/plain": [
       "7"
      ]
     },
     "execution_count": 30,
     "metadata": {},
     "output_type": "execute_result"
    }
   ],
   "source": [
    "# leetcode 122-ques\n",
    "def maxProfit(prices):\n",
    "        max_profit =0\n",
    "        for i in range(1, len(prices)):\n",
    "            profit = prices[i] - prices[i - 1]\n",
    "    \n",
    "            if profit > 0:\n",
    "                max_profit += profit\n",
    "        return max_profit\n",
    "\n",
    "maxProfit([7,1,5,3,6,4])"
   ]
  },
  {
   "cell_type": "code",
   "execution_count": 44,
   "metadata": {},
   "outputs": [
    {
     "data": {
      "text/plain": [
       "3"
      ]
     },
     "execution_count": 44,
     "metadata": {},
     "output_type": "execute_result"
    }
   ],
   "source": [
    "# leetcode 27-ques\n",
    "def removeValue(nums,val):\n",
    "    j = 0\n",
    "    for i in range(len(nums)):\n",
    "        if nums[i] != val:\n",
    "            nums[j] = nums[i]\n",
    "            j += 1\n",
    "    return j\n",
    "arr =[2,2,4,3,3]\n",
    "removeValue(arr,3)"
   ]
  },
  {
   "cell_type": "code",
   "execution_count": 50,
   "metadata": {},
   "outputs": [
    {
     "data": {
      "text/plain": [
       "3"
      ]
     },
     "execution_count": 50,
     "metadata": {},
     "output_type": "execute_result"
    }
   ],
   "source": [
    "# leetcode 26-ques\n",
    "def removeDuplicate(nums):\n",
    "    j = 1\n",
    "    for i in range(1, len(nums)):\n",
    "        if nums[i] != nums[i - 1]:\n",
    "            nums[j] = nums[i]\n",
    "            j +=1\n",
    "    return j\n",
    "nums = [1,1,2,5]\n",
    "removeDuplicate(nums)"
   ]
  },
  {
   "cell_type": "code",
   "execution_count": 18,
   "metadata": {},
   "outputs": [
    {
     "name": "stdout",
     "output_type": "stream",
     "text": [
      "nums 8\n",
      "nums 2\n",
      "nums 3\n",
      "nums 9\n",
      "nums 7\n",
      "nums 9\n",
      "nums 8\n",
      "nums 5\n"
     ]
    },
    {
     "data": {
      "text/plain": [
       "[8, 2, 3, 9, 7, 9, 8, 5]"
      ]
     },
     "execution_count": 18,
     "metadata": {},
     "output_type": "execute_result"
    }
   ],
   "source": [
    "# removeDuplicate value  and give unique array\n",
    "def removeDuplicate(nums):\n",
    "    val = 0\n",
    "    uniqe =[]\n",
    "    for i in range(0,len(nums)):\n",
    "       \n",
    "        # if nums[i] != nums[i - 1]:\n",
    "        if nums[val] != nums[i]:\n",
    "            # print('val nums',nums[i])\n",
    "            nums[val] = nums[i]\n",
    "            print('nums',nums[val])\n",
    "            # val += 1\n",
    "            uniqe.append(nums[i])\n",
    "            # print(uniqe)\n",
    "    return uniqe\n",
    "removeDuplicate([1,8,2,2,3,9,7,7,9,8,5])"
   ]
  },
  {
   "cell_type": "code",
   "execution_count": 47,
   "metadata": {},
   "outputs": [
    {
     "name": "stdout",
     "output_type": "stream",
     "text": [
      "[1]\n",
      "[1, 2]\n",
      "[1, 2, 4]\n"
     ]
    },
    {
     "data": {
      "text/plain": [
       "3"
      ]
     },
     "execution_count": 47,
     "metadata": {},
     "output_type": "execute_result"
    }
   ],
   "source": [
    "# remove element\n",
    "\n",
    "def remove(arr,a):\n",
    "    val = 0\n",
    "    can = []\n",
    "    for i in range(len(arr)):\n",
    "        if arr[i] != a:\n",
    "            arr[val] = arr[i]\n",
    "            val += 1\n",
    "            can.append(arr[i])\n",
    "            \n",
    "            print(can)\n",
    "            \n",
    "    return val    \n",
    "        \n",
    "remove([1,2,4,3],3)\n",
    "        "
   ]
  }
 ],
 "metadata": {
  "kernelspec": {
   "display_name": "Python 3",
   "language": "python",
   "name": "python3"
  },
  "language_info": {
   "codemirror_mode": {
    "name": "ipython",
    "version": 3
   },
   "file_extension": ".py",
   "mimetype": "text/x-python",
   "name": "python",
   "nbconvert_exporter": "python",
   "pygments_lexer": "ipython3",
   "version": "3.12.3"
  }
 },
 "nbformat": 4,
 "nbformat_minor": 2
}
