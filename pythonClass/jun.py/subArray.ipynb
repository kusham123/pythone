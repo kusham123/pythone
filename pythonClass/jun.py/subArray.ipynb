{
 "cells": [
  {
   "cell_type": "code",
   "execution_count": null,
   "metadata": {},
   "outputs": [],
   "source": [
    "# 53\n",
    "def maxSubArray(nums):\n",
    "    cur_sum = 0 \n",
    "    max_sum = -10**7\n",
    "    for i in range(len(nums)):\n",
    "        cur_sum += nums[i]\n",
    "        max_sum =max(cur_sum,)"
   ]
  },
  {
   "cell_type": "code",
   "execution_count": 4,
   "metadata": {},
   "outputs": [
    {
     "data": {
      "text/plain": [
       "3"
      ]
     },
     "execution_count": 4,
     "metadata": {},
     "output_type": "execute_result"
    }
   ],
   "source": [
    "# 35\n",
    "def searchInsert(nums,val):\n",
    "    j =0\n",
    "    for i in range(len(nums)):\n",
    "        if nums[i] <= val :\n",
    "           j += 1\n",
    "    return j\n",
    "searchInsert([1,3,2,5,6],4)"
   ]
  },
  {
   "cell_type": "code",
   "execution_count": null,
   "metadata": {},
   "outputs": [],
   "source": [
    "# 33\n"
   ]
  },
  {
   "cell_type": "code",
   "execution_count": 52,
   "metadata": {},
   "outputs": [
    {
     "name": "stdout",
     "output_type": "stream",
     "text": [
      "stage\n"
     ]
    },
    {
     "data": {
      "text/plain": [
       "'blue is sky the'"
      ]
     },
     "execution_count": 52,
     "metadata": {},
     "output_type": "execute_result"
    }
   ],
   "source": [
    "#151\n",
    "def reversedWord(str):\n",
    "    res= ''\n",
    "    i = 0\n",
    "    n = len(str)\n",
    "    \n",
    "    while i < n:\n",
    "        i+1\n",
    "        if i >= n:\n",
    "            break\n",
    "        \n",
    "        while i<n and str[i] == ' ':\n",
    "            print('stage')\n",
    "            i+=1\n",
    "            \n",
    "        # print('i =', i)\n",
    "        j = i+1\n",
    "        # print('j=',j)\n",
    "        while j<n and str[j] != ' ':\n",
    "            j+=1\n",
    "            sub_str = str[i:j]\n",
    "            \n",
    "        if len(res) == 0:\n",
    "            res = sub_str\n",
    "        else:\n",
    "            res = sub_str +' '+ res\n",
    "        i= j+1\n",
    "    return res\n",
    "                \n",
    "str = \" the sky is blue \"\n",
    "reversedWord(str)\n",
    "             "
   ]
  },
  {
   "cell_type": "code",
   "execution_count": null,
   "metadata": {},
   "outputs": [],
   "source": [
    "# 242,347,\n",
    "# home work 49,567,875"
   ]
  }
 ],
 "metadata": {
  "kernelspec": {
   "display_name": "Python 3",
   "language": "python",
   "name": "python3"
  },
  "language_info": {
   "codemirror_mode": {
    "name": "ipython",
    "version": 3
   },
   "file_extension": ".py",
   "mimetype": "text/x-python",
   "name": "python",
   "nbconvert_exporter": "python",
   "pygments_lexer": "ipython3",
   "version": "3.12.3"
  }
 },
 "nbformat": 4,
 "nbformat_minor": 2
}
