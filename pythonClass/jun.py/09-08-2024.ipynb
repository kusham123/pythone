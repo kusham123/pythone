{
 "cells": [
  {
   "cell_type": "code",
   "execution_count": 1,
   "metadata": {},
   "outputs": [
    {
     "data": {
      "text/plain": [
       "[]"
      ]
     },
     "execution_count": 1,
     "metadata": {},
     "output_type": "execute_result"
    }
   ],
   "source": [
    "# class Solution: 167 leeetcode question\n",
    "def threeSum(nums):\n",
    "    res = []\n",
    "    nums.sort()\n",
    "    for i in range (len(nums)):\n",
    "        if i > 0 and nums[i] == nums[i-1]:\n",
    "            continue\n",
    "        l = i+1\n",
    "        r = len(nums) -1 \n",
    "        while l < r:\n",
    "            threesum = nums[i] + nums[l] + nums[r]\n",
    "            if threesum < 0:\n",
    "                l+=1\n",
    "            elif threesum > 0:\n",
    "                r-=1\n",
    "            else:\n",
    "                res.append([nums[i] , nums[l] , nums[r]])\n",
    "                l +=1\n",
    "                while nums[l] == nums[l-1] and l < r:\n",
    "                    l+=1 \n",
    "    return res\n",
    "\n",
    "threeSum([2,7,11,15]) "
   ]
  },
  {
   "cell_type": "code",
   "execution_count": 2,
   "metadata": {},
   "outputs": [
    {
     "ename": "TypeError",
     "evalue": "twoSum() missing 1 required positional argument: 'target'",
     "output_type": "error",
     "traceback": [
      "\u001b[1;31m---------------------------------------------------------------------------\u001b[0m",
      "\u001b[1;31mTypeError\u001b[0m                                 Traceback (most recent call last)",
      "Cell \u001b[1;32mIn[2], line 13\u001b[0m\n\u001b[0;32m     11\u001b[0m             j\u001b[38;5;241m-\u001b[39m\u001b[38;5;241m=\u001b[39m\u001b[38;5;241m1\u001b[39m \n\u001b[0;32m     12\u001b[0m     \u001b[38;5;28;01mreturn\u001b[39;00m i\n\u001b[1;32m---> 13\u001b[0m \u001b[43mtwoSum\u001b[49m\u001b[43m(\u001b[49m\u001b[43m[\u001b[49m\u001b[38;5;241;43m2\u001b[39;49m\u001b[43m,\u001b[49m\u001b[38;5;241;43m7\u001b[39;49m\u001b[43m,\u001b[49m\u001b[38;5;241;43m11\u001b[39;49m\u001b[43m,\u001b[49m\u001b[38;5;241;43m15\u001b[39;49m\u001b[43m]\u001b[49m\u001b[43m)\u001b[49m\n",
      "\u001b[1;31mTypeError\u001b[0m: twoSum() missing 1 required positional argument: 'target'"
     ]
    }
   ],
   "source": [
    "# class Solution: 167- question\n",
    "def twoSum(numbers,target):\n",
    "    i = 0\n",
    "    j = len(numbers)  - 1\n",
    "    while i < j:\n",
    "        if numbers[i] + numbers[j] == target:\n",
    "            return [i+1 , j+1]\n",
    "        elif numbers[i] + numbers[j] < target:\n",
    "            i+=1\n",
    "        elif numbers[i] + numbers[j] > target:\n",
    "            j-=1 \n",
    "    return i\n",
    "twoSum([2,7,11,15],9)"
   ]
  }
 ],
 "metadata": {
  "kernelspec": {
   "display_name": "Python 3",
   "language": "python",
   "name": "python3"
  },
  "language_info": {
   "codemirror_mode": {
    "name": "ipython",
    "version": 3
   },
   "file_extension": ".py",
   "mimetype": "text/x-python",
   "name": "python",
   "nbconvert_exporter": "python",
   "pygments_lexer": "ipython3",
   "version": "3.12.3"
  }
 },
 "nbformat": 4,
 "nbformat_minor": 2
}
